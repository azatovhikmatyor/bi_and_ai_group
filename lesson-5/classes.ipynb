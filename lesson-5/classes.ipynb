{
 "cells": [
  {
   "cell_type": "markdown",
   "metadata": {},
   "source": [
    "### Class Properties"
   ]
  },
  {
   "cell_type": "code",
   "execution_count": 24,
   "metadata": {},
   "outputs": [],
   "source": [
    "class Student:\n",
    "    def __init__(self, name: str, grade: int):\n",
    "        self.name = name\n",
    "\n",
    "        if grade < 0 or grade > 100:\n",
    "            raise ValueError(\"grade must be within the range (0, 100)\")\n",
    "        self.__grade = grade\n",
    "\n",
    "    # def getGrade(self):\n",
    "    #     return self.__grade\n",
    "\n",
    "    # def setGrade(self, new_grade: int):\n",
    "    #     if new_grade < 0 or new_grade > 100:\n",
    "    #         raise ValueError(\"grade must be within the range (0, 100)\")\n",
    "    #     self.__grade = new_grade\n",
    "\n",
    "    @property\n",
    "    def grade(self):\n",
    "        return self.__grade\n",
    "    \n",
    "    @grade.setter\n",
    "    def grade(self, new_grade):\n",
    "        if new_grade < 0 or new_grade > 100:\n",
    "            raise ValueError(\"grade must be within the range (0, 100)\")\n",
    "        self.__grade = new_grade"
   ]
  },
  {
   "cell_type": "code",
   "execution_count": null,
   "metadata": {},
   "outputs": [
    {
     "ename": "ValueError",
     "evalue": "grade must be within the range (0, 100)",
     "output_type": "error",
     "traceback": [
      "\u001b[1;31m---------------------------------------------------------------------------\u001b[0m",
      "\u001b[1;31mValueError\u001b[0m                                Traceback (most recent call last)",
      "Cell \u001b[1;32mIn[25], line 3\u001b[0m\n\u001b[0;32m      1\u001b[0m s1 \u001b[38;5;241m=\u001b[39m Student(\u001b[38;5;124m\"\u001b[39m\u001b[38;5;124mJohn\u001b[39m\u001b[38;5;124m\"\u001b[39m, \u001b[38;5;241m90\u001b[39m)\n\u001b[0;32m      2\u001b[0m s1\u001b[38;5;241m.\u001b[39mgrade\n\u001b[1;32m----> 3\u001b[0m \u001b[43ms1\u001b[49m\u001b[38;5;241;43m.\u001b[39;49m\u001b[43mgrade\u001b[49m \u001b[38;5;241m=\u001b[39m \u001b[38;5;241m160\u001b[39m\n",
      "Cell \u001b[1;32mIn[24], line 24\u001b[0m, in \u001b[0;36mStudent.grade\u001b[1;34m(self, new_grade)\u001b[0m\n\u001b[0;32m     21\u001b[0m \u001b[38;5;129m@grade\u001b[39m\u001b[38;5;241m.\u001b[39msetter\n\u001b[0;32m     22\u001b[0m \u001b[38;5;28;01mdef\u001b[39;00m \u001b[38;5;21mgrade\u001b[39m(\u001b[38;5;28mself\u001b[39m, new_grade):\n\u001b[0;32m     23\u001b[0m     \u001b[38;5;28;01mif\u001b[39;00m new_grade \u001b[38;5;241m<\u001b[39m \u001b[38;5;241m0\u001b[39m \u001b[38;5;129;01mor\u001b[39;00m new_grade \u001b[38;5;241m>\u001b[39m \u001b[38;5;241m100\u001b[39m:\n\u001b[1;32m---> 24\u001b[0m         \u001b[38;5;28;01mraise\u001b[39;00m \u001b[38;5;167;01mValueError\u001b[39;00m(\u001b[38;5;124m\"\u001b[39m\u001b[38;5;124mgrade must be within the range (0, 100)\u001b[39m\u001b[38;5;124m\"\u001b[39m)\n\u001b[0;32m     25\u001b[0m     \u001b[38;5;28mself\u001b[39m\u001b[38;5;241m.\u001b[39m__grade \u001b[38;5;241m=\u001b[39m new_grade\n",
      "\u001b[1;31mValueError\u001b[0m: grade must be within the range (0, 100)"
     ]
    }
   ],
   "source": [
    "s1 = Student(\"John\", 90)\n",
    "s1.grade\n",
    "s1.grade = 160"
   ]
  },
  {
   "cell_type": "code",
   "execution_count": null,
   "metadata": {},
   "outputs": [],
   "source": []
  },
  {
   "cell_type": "code",
   "execution_count": 19,
   "metadata": {},
   "outputs": [
    {
     "name": "stdout",
     "output_type": "stream",
     "text": [
      "90\n",
      "80\n"
     ]
    }
   ],
   "source": [
    "s1 = Student(\"John\", 90)\n",
    "print(s1.getGrade())\n",
    "s1.setGrade(80)\n",
    "print(s1.getGrade())\n"
   ]
  },
  {
   "cell_type": "code",
   "execution_count": null,
   "metadata": {},
   "outputs": [],
   "source": []
  }
 ],
 "metadata": {
  "kernelspec": {
   "display_name": "env",
   "language": "python",
   "name": "python3"
  },
  "language_info": {
   "codemirror_mode": {
    "name": "ipython",
    "version": 3
   },
   "file_extension": ".py",
   "mimetype": "text/x-python",
   "name": "python",
   "nbconvert_exporter": "python",
   "pygments_lexer": "ipython3",
   "version": "3.10.11"
  }
 },
 "nbformat": 4,
 "nbformat_minor": 2
}
