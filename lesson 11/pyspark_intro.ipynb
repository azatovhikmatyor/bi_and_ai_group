{
 "cells": [
  {
   "cell_type": "code",
   "execution_count": null,
   "metadata": {},
   "outputs": [],
   "source": []
  },
  {
   "cell_type": "code",
   "execution_count": 1,
   "metadata": {},
   "outputs": [],
   "source": [
    "from pyspark.sql import SparkSession\n",
    "\n",
    "spark = SparkSession.builder.appName('Demo').getOrCreate()"
   ]
  },
  {
   "cell_type": "code",
   "execution_count": 2,
   "metadata": {},
   "outputs": [
    {
     "data": {
      "text/html": [
       "\n",
       "            <div>\n",
       "                <p><b>SparkSession - in-memory</b></p>\n",
       "                \n",
       "        <div>\n",
       "            <p><b>SparkContext</b></p>\n",
       "\n",
       "            <p><a href=\"http://LENOVO:4040\">Spark UI</a></p>\n",
       "\n",
       "            <dl>\n",
       "              <dt>Version</dt>\n",
       "                <dd><code>v3.3.1</code></dd>\n",
       "              <dt>Master</dt>\n",
       "                <dd><code>local[*]</code></dd>\n",
       "              <dt>AppName</dt>\n",
       "                <dd><code>Demo</code></dd>\n",
       "            </dl>\n",
       "        </div>\n",
       "        \n",
       "            </div>\n",
       "        "
      ],
      "text/plain": [
       "<pyspark.sql.session.SparkSession at 0x207ff66bdf0>"
      ]
     },
     "execution_count": 2,
     "metadata": {},
     "output_type": "execute_result"
    }
   ],
   "source": [
    "spark"
   ]
  },
  {
   "cell_type": "code",
   "execution_count": 4,
   "metadata": {},
   "outputs": [],
   "source": [
    "import pandas as pd"
   ]
  },
  {
   "cell_type": "code",
   "execution_count": 6,
   "metadata": {},
   "outputs": [
    {
     "data": {
      "text/plain": [
       "pandas.core.frame.DataFrame"
      ]
     },
     "execution_count": 6,
     "metadata": {},
     "output_type": "execute_result"
    }
   ],
   "source": [
    "movie_pd = pd.read_csv('data/movie.csv')\n",
    "type(movie_pd)"
   ]
  },
  {
   "cell_type": "code",
   "execution_count": 9,
   "metadata": {},
   "outputs": [
    {
     "data": {
      "text/html": [
       "<div>\n",
       "<style scoped>\n",
       "    .dataframe tbody tr th:only-of-type {\n",
       "        vertical-align: middle;\n",
       "    }\n",
       "\n",
       "    .dataframe tbody tr th {\n",
       "        vertical-align: top;\n",
       "    }\n",
       "\n",
       "    .dataframe thead th {\n",
       "        text-align: right;\n",
       "    }\n",
       "</style>\n",
       "<table border=\"1\" class=\"dataframe\">\n",
       "  <thead>\n",
       "    <tr style=\"text-align: right;\">\n",
       "      <th></th>\n",
       "      <th>color</th>\n",
       "      <th>director_name</th>\n",
       "      <th>num_critic_for_reviews</th>\n",
       "      <th>duration</th>\n",
       "      <th>director_facebook_likes</th>\n",
       "      <th>actor_3_facebook_likes</th>\n",
       "      <th>actor_2_name</th>\n",
       "      <th>actor_1_facebook_likes</th>\n",
       "      <th>gross</th>\n",
       "      <th>genres</th>\n",
       "      <th>...</th>\n",
       "      <th>num_user_for_reviews</th>\n",
       "      <th>language</th>\n",
       "      <th>country</th>\n",
       "      <th>content_rating</th>\n",
       "      <th>budget</th>\n",
       "      <th>title_year</th>\n",
       "      <th>actor_2_facebook_likes</th>\n",
       "      <th>imdb_score</th>\n",
       "      <th>aspect_ratio</th>\n",
       "      <th>movie_facebook_likes</th>\n",
       "    </tr>\n",
       "  </thead>\n",
       "  <tbody>\n",
       "    <tr>\n",
       "      <th>0</th>\n",
       "      <td>Color</td>\n",
       "      <td>James Cameron</td>\n",
       "      <td>723.0</td>\n",
       "      <td>178.0</td>\n",
       "      <td>0.0</td>\n",
       "      <td>855.0</td>\n",
       "      <td>Joel David Moore</td>\n",
       "      <td>1000.0</td>\n",
       "      <td>760505847.0</td>\n",
       "      <td>Action|Adventure|Fantasy|Sci-Fi</td>\n",
       "      <td>...</td>\n",
       "      <td>3054.0</td>\n",
       "      <td>English</td>\n",
       "      <td>USA</td>\n",
       "      <td>PG-13</td>\n",
       "      <td>237000000.0</td>\n",
       "      <td>2009.0</td>\n",
       "      <td>936.0</td>\n",
       "      <td>7.9</td>\n",
       "      <td>1.78</td>\n",
       "      <td>33000</td>\n",
       "    </tr>\n",
       "    <tr>\n",
       "      <th>1</th>\n",
       "      <td>Color</td>\n",
       "      <td>Gore Verbinski</td>\n",
       "      <td>302.0</td>\n",
       "      <td>169.0</td>\n",
       "      <td>563.0</td>\n",
       "      <td>1000.0</td>\n",
       "      <td>Orlando Bloom</td>\n",
       "      <td>40000.0</td>\n",
       "      <td>309404152.0</td>\n",
       "      <td>Action|Adventure|Fantasy</td>\n",
       "      <td>...</td>\n",
       "      <td>1238.0</td>\n",
       "      <td>English</td>\n",
       "      <td>USA</td>\n",
       "      <td>PG-13</td>\n",
       "      <td>300000000.0</td>\n",
       "      <td>2007.0</td>\n",
       "      <td>5000.0</td>\n",
       "      <td>7.1</td>\n",
       "      <td>2.35</td>\n",
       "      <td>0</td>\n",
       "    </tr>\n",
       "  </tbody>\n",
       "</table>\n",
       "<p>2 rows × 28 columns</p>\n",
       "</div>"
      ],
      "text/plain": [
       "   color   director_name  num_critic_for_reviews  duration  \\\n",
       "0  Color   James Cameron                   723.0     178.0   \n",
       "1  Color  Gore Verbinski                   302.0     169.0   \n",
       "\n",
       "   director_facebook_likes  actor_3_facebook_likes      actor_2_name  \\\n",
       "0                      0.0                   855.0  Joel David Moore   \n",
       "1                    563.0                  1000.0     Orlando Bloom   \n",
       "\n",
       "   actor_1_facebook_likes        gross                           genres  ...  \\\n",
       "0                  1000.0  760505847.0  Action|Adventure|Fantasy|Sci-Fi  ...   \n",
       "1                 40000.0  309404152.0         Action|Adventure|Fantasy  ...   \n",
       "\n",
       "  num_user_for_reviews language  country  content_rating       budget  \\\n",
       "0               3054.0  English      USA           PG-13  237000000.0   \n",
       "1               1238.0  English      USA           PG-13  300000000.0   \n",
       "\n",
       "   title_year actor_2_facebook_likes imdb_score  aspect_ratio  \\\n",
       "0      2009.0                  936.0        7.9          1.78   \n",
       "1      2007.0                 5000.0        7.1          2.35   \n",
       "\n",
       "  movie_facebook_likes  \n",
       "0                33000  \n",
       "1                    0  \n",
       "\n",
       "[2 rows x 28 columns]"
      ]
     },
     "execution_count": 9,
     "metadata": {},
     "output_type": "execute_result"
    }
   ],
   "source": [
    "movie_pd.head(2)"
   ]
  },
  {
   "cell_type": "code",
   "execution_count": null,
   "metadata": {},
   "outputs": [],
   "source": []
  },
  {
   "cell_type": "code",
   "execution_count": 38,
   "metadata": {},
   "outputs": [
    {
     "data": {
      "text/plain": [
       "pyspark.sql.dataframe.DataFrame"
      ]
     },
     "execution_count": 38,
     "metadata": {},
     "output_type": "execute_result"
    }
   ],
   "source": [
    "df = spark.read.csv('data/movie.csv', header=True, inferSchema=True)\n",
    "type(df)"
   ]
  },
  {
   "cell_type": "code",
   "execution_count": 39,
   "metadata": {},
   "outputs": [
    {
     "name": "stdout",
     "output_type": "stream",
     "text": [
      "+-----+--------------+----------------------+--------+-----------------------+----------------------+----------------+----------------------+------------+--------------------+---------------+--------------------+---------------+-------------------------+----------------+--------------------+--------------------+--------------------+--------------------+--------+-------+--------------+------+----------+----------------------+----------+------------+--------------------+\n",
      "|color| director_name|num_critic_for_reviews|duration|director_facebook_likes|actor_3_facebook_likes|    actor_2_name|actor_1_facebook_likes|       gross|              genres|   actor_1_name|         movie_title|num_voted_users|cast_total_facebook_likes|    actor_3_name|facenumber_in_poster|       plot_keywords|     movie_imdb_link|num_user_for_reviews|language|country|content_rating|budget|title_year|actor_2_facebook_likes|imdb_score|aspect_ratio|movie_facebook_likes|\n",
      "+-----+--------------+----------------------+--------+-----------------------+----------------------+----------------+----------------------+------------+--------------------+---------------+--------------------+---------------+-------------------------+----------------+--------------------+--------------------+--------------------+--------------------+--------+-------+--------------+------+----------+----------------------+----------+------------+--------------------+\n",
      "|Color| James Cameron|                 723.0|   178.0|                    0.0|                 855.0|Joel David Moore|                1000.0|7.60505847E8|Action|Adventure|...|    CCH Pounder|              Avatar|         886204|                     4834|       Wes Studi|                 0.0|avatar|future|mar...|http://www.imdb.c...|              3054.0| English|    USA|         PG-13|2.37E8|    2009.0|                 936.0|       7.9|        1.78|               33000|\n",
      "|Color|Gore Verbinski|                 302.0|   169.0|                  563.0|                1000.0|   Orlando Bloom|               40000.0|3.09404152E8|Action|Adventure|...|    Johnny Depp|Pirates of the Ca...|         471220|                    48350|  Jack Davenport|                 0.0|goddess|marriage ...|http://www.imdb.c...|              1238.0| English|    USA|         PG-13| 3.0E8|    2007.0|                5000.0|       7.1|        2.35|                   0|\n",
      "|Color|    Sam Mendes|                 602.0|   148.0|                    0.0|                 161.0|    Rory Kinnear|               11000.0|2.00074175E8|Action|Adventure|...|Christoph Waltz|             Spectre|         275868|                    11700|Stephanie Sigman|                 1.0|bomb|espionage|se...|http://www.imdb.c...|               994.0| English|     UK|         PG-13|2.45E8|    2015.0|                 393.0|       6.8|        2.35|               85000|\n",
      "+-----+--------------+----------------------+--------+-----------------------+----------------------+----------------+----------------------+------------+--------------------+---------------+--------------------+---------------+-------------------------+----------------+--------------------+--------------------+--------------------+--------------------+--------+-------+--------------+------+----------+----------------------+----------+------------+--------------------+\n",
      "only showing top 3 rows\n",
      "\n"
     ]
    }
   ],
   "source": [
    "df.show(3)"
   ]
  },
  {
   "cell_type": "code",
   "execution_count": 18,
   "metadata": {},
   "outputs": [
    {
     "name": "stdout",
     "output_type": "stream",
     "text": [
      "root\n",
      " |-- color: string (nullable = true)\n",
      " |-- director_name: string (nullable = true)\n",
      " |-- num_critic_for_reviews: double (nullable = true)\n",
      " |-- duration: double (nullable = true)\n",
      " |-- director_facebook_likes: double (nullable = true)\n",
      " |-- actor_3_facebook_likes: double (nullable = true)\n",
      " |-- actor_2_name: string (nullable = true)\n",
      " |-- actor_1_facebook_likes: double (nullable = true)\n",
      " |-- gross: double (nullable = true)\n",
      " |-- genres: string (nullable = true)\n",
      " |-- actor_1_name: string (nullable = true)\n",
      " |-- movie_title: string (nullable = true)\n",
      " |-- num_voted_users: integer (nullable = true)\n",
      " |-- cast_total_facebook_likes: integer (nullable = true)\n",
      " |-- actor_3_name: string (nullable = true)\n",
      " |-- facenumber_in_poster: double (nullable = true)\n",
      " |-- plot_keywords: string (nullable = true)\n",
      " |-- movie_imdb_link: string (nullable = true)\n",
      " |-- num_user_for_reviews: double (nullable = true)\n",
      " |-- language: string (nullable = true)\n",
      " |-- country: string (nullable = true)\n",
      " |-- content_rating: string (nullable = true)\n",
      " |-- budget: double (nullable = true)\n",
      " |-- title_year: double (nullable = true)\n",
      " |-- actor_2_facebook_likes: double (nullable = true)\n",
      " |-- imdb_score: double (nullable = true)\n",
      " |-- aspect_ratio: double (nullable = true)\n",
      " |-- movie_facebook_likes: integer (nullable = true)\n",
      "\n"
     ]
    }
   ],
   "source": [
    "movie.printSchema()"
   ]
  },
  {
   "cell_type": "code",
   "execution_count": 20,
   "metadata": {},
   "outputs": [
    {
     "data": {
      "text/plain": [
       "['color',\n",
       " 'director_name',\n",
       " 'num_critic_for_reviews',\n",
       " 'duration',\n",
       " 'director_facebook_likes',\n",
       " 'actor_3_facebook_likes',\n",
       " 'actor_2_name',\n",
       " 'actor_1_facebook_likes',\n",
       " 'gross',\n",
       " 'genres',\n",
       " 'actor_1_name',\n",
       " 'movie_title',\n",
       " 'num_voted_users',\n",
       " 'cast_total_facebook_likes',\n",
       " 'actor_3_name',\n",
       " 'facenumber_in_poster',\n",
       " 'plot_keywords',\n",
       " 'movie_imdb_link',\n",
       " 'num_user_for_reviews',\n",
       " 'language',\n",
       " 'country',\n",
       " 'content_rating',\n",
       " 'budget',\n",
       " 'title_year',\n",
       " 'actor_2_facebook_likes',\n",
       " 'imdb_score',\n",
       " 'aspect_ratio',\n",
       " 'movie_facebook_likes']"
      ]
     },
     "execution_count": 20,
     "metadata": {},
     "output_type": "execute_result"
    }
   ],
   "source": [
    "movie.columns"
   ]
  },
  {
   "cell_type": "code",
   "execution_count": 24,
   "metadata": {},
   "outputs": [
    {
     "data": {
      "text/html": [
       "<div>\n",
       "<style scoped>\n",
       "    .dataframe tbody tr th:only-of-type {\n",
       "        vertical-align: middle;\n",
       "    }\n",
       "\n",
       "    .dataframe tbody tr th {\n",
       "        vertical-align: top;\n",
       "    }\n",
       "\n",
       "    .dataframe thead th {\n",
       "        text-align: right;\n",
       "    }\n",
       "</style>\n",
       "<table border=\"1\" class=\"dataframe\">\n",
       "  <thead>\n",
       "    <tr style=\"text-align: right;\">\n",
       "      <th></th>\n",
       "      <th>color</th>\n",
       "      <th>director_name</th>\n",
       "    </tr>\n",
       "  </thead>\n",
       "  <tbody>\n",
       "    <tr>\n",
       "      <th>0</th>\n",
       "      <td>Color</td>\n",
       "      <td>James Cameron</td>\n",
       "    </tr>\n",
       "    <tr>\n",
       "      <th>1</th>\n",
       "      <td>Color</td>\n",
       "      <td>Gore Verbinski</td>\n",
       "    </tr>\n",
       "  </tbody>\n",
       "</table>\n",
       "</div>"
      ],
      "text/plain": [
       "   color   director_name\n",
       "0  Color   James Cameron\n",
       "1  Color  Gore Verbinski"
      ]
     },
     "execution_count": 24,
     "metadata": {},
     "output_type": "execute_result"
    }
   ],
   "source": [
    "movie_pd[['color', 'director_name']].head(2)"
   ]
  },
  {
   "cell_type": "code",
   "execution_count": null,
   "metadata": {},
   "outputs": [
    {
     "name": "stdout",
     "output_type": "stream",
     "text": [
      "+-----+-------+\n",
      "|color|country|\n",
      "+-----+-------+\n",
      "|Color|    USA|\n",
      "|Color|    USA|\n",
      "+-----+-------+\n",
      "only showing top 2 rows\n",
      "\n"
     ]
    }
   ],
   "source": [
    "df.select('color', 'country').show(2)"
   ]
  },
  {
   "cell_type": "code",
   "execution_count": 45,
   "metadata": {},
   "outputs": [
    {
     "name": "stdout",
     "output_type": "stream",
     "text": [
      "+-----+-------+\n",
      "|color|country|\n",
      "+-----+-------+\n",
      "|Color|    USA|\n",
      "|Color|    USA|\n",
      "+-----+-------+\n",
      "only showing top 2 rows\n",
      "\n"
     ]
    }
   ],
   "source": [
    "df.select(df.color, df.country).show(2)"
   ]
  },
  {
   "cell_type": "code",
   "execution_count": 47,
   "metadata": {},
   "outputs": [
    {
     "name": "stdout",
     "output_type": "stream",
     "text": [
      "+-----+-------+\n",
      "|Color|country|\n",
      "+-----+-------+\n",
      "|Color|    USA|\n",
      "|Color|    USA|\n",
      "+-----+-------+\n",
      "only showing top 2 rows\n",
      "\n"
     ]
    }
   ],
   "source": [
    "df.select(df['color'].alias('Color'), df['country']).show(2)"
   ]
  },
  {
   "cell_type": "code",
   "execution_count": 51,
   "metadata": {},
   "outputs": [
    {
     "name": "stdout",
     "output_type": "stream",
     "text": [
      "+-----+-------+\n",
      "|Color|country|\n",
      "+-----+-------+\n",
      "|Color|    USA|\n",
      "|Color|    USA|\n",
      "+-----+-------+\n",
      "only showing top 2 rows\n",
      "\n"
     ]
    }
   ],
   "source": [
    "from pyspark.sql.functions import col\n",
    "\n",
    "df.select(col('color').alias('Color'), 'country').show(2)"
   ]
  },
  {
   "cell_type": "code",
   "execution_count": null,
   "metadata": {},
   "outputs": [
    {
     "name": "stdout",
     "output_type": "stream",
     "text": [
      "+-----+--------------------+----------------------+--------+-----------------------+----------------------+---------------+----------------------+------------+-----------+--------------+--------------------+---------------+-------------------------+-------------------+--------------------+--------------------+--------------------+--------------------+--------+-------+--------------+---------+----------+----------------------+----------+------------+--------------------+\n",
      "|color|       director_name|num_critic_for_reviews|duration|director_facebook_likes|actor_3_facebook_likes|   actor_2_name|actor_1_facebook_likes|       gross|     genres|  actor_1_name|         movie_title|num_voted_users|cast_total_facebook_likes|       actor_3_name|facenumber_in_poster|       plot_keywords|     movie_imdb_link|num_user_for_reviews|language|country|content_rating|   budget|title_year|actor_2_facebook_likes|imdb_score|aspect_ratio|movie_facebook_likes|\n",
      "+-----+--------------------+----------------------+--------+-----------------------+----------------------+---------------+----------------------+------------+-----------+--------------+--------------------+---------------+-------------------------+-------------------+--------------------+--------------------+--------------------+--------------------+--------+-------+--------------+---------+----------+----------------------+----------+------------+--------------------+\n",
      "|Color|      John Blanchard|                  null|    65.0|                    0.0|                 176.0|  Andrea Martin|                 770.0|        null|     Comedy|  Martin Short|    Towering Inferno|             10|                     1125|       Joe Flaherty|                 2.0|                null|http://www.imdb.c...|                null| English| Canada|          null|     null|      null|                 179.0|       9.5|        1.33|                   0|\n",
      "|Color|      Frank Darabont|                 199.0|   142.0|                    0.0|                 461.0| Jeffrey DeMunn|               11000.0| 2.8341469E7|Crime|Drama|Morgan Freeman|The Shawshank Red...|        1689764|                    13495|         Bob Gunton|                 0.0|escape from priso...|http://www.imdb.c...|              4144.0| English|    USA|             R|    2.5E7|    1994.0|                 745.0|       9.3|        1.85|              108000|\n",
      "|Color|Francis Ford Coppola|                 208.0|   175.0|                    0.0|                3000.0|  Marlon Brando|               14000.0|1.34821952E8|Crime|Drama|     Al Pacino|       The Godfather|        1155770|                    28122|      Robert Duvall|                 1.0|crime family|mafi...|http://www.imdb.c...|              2238.0| English|    USA|             R|6000000.0|    1972.0|               10000.0|       9.2|        1.85|               43000|\n",
      "| null|      John Stockwell|                   2.0|    90.0|                  134.0|                 354.0|     T.J. Storm|              260000.0|        null|     Action|  Matthew Ziff|Kickboxer: Vengeance|            246|                   261818|         Sam Medina|                 5.0|                null|http://www.imdb.c...|                 1.0|    null|    USA|          null|    1.7E7|    2016.0|                 454.0|       9.1|        null|                   0|\n",
      "|Color|                null|                  53.0|    55.0|                   null|                   2.0|Olaf Lubaszenko|                  20.0|    447093.0|      Drama|Krystyna Janda|             Dekalog|          12590|                       25|Olgierd Lukaszewicz|                 0.0|meaning of life|m...|http://www.imdb.c...|                37.0|  Polish| Poland|         TV-MA|     null|      null|                   3.0|       9.1|        1.33|                   0|\n",
      "+-----+--------------------+----------------------+--------+-----------------------+----------------------+---------------+----------------------+------------+-----------+--------------+--------------------+---------------+-------------------------+-------------------+--------------------+--------------------+--------------------+--------------------+--------+-------+--------------+---------+----------+----------------------+----------+------------+--------------------+\n",
      "only showing top 5 rows\n",
      "\n"
     ]
    }
   ],
   "source": [
    "df.orderBy(col('imdb_score').desc()).show(5)"
   ]
  },
  {
   "cell_type": "code",
   "execution_count": 66,
   "metadata": {},
   "outputs": [
    {
     "name": "stdout",
     "output_type": "stream",
     "text": [
      "+-----+-----------------+-------+--------+-----------------------+----------------------+----------------+----------------------+------------+--------------------+---------------+--------------------+---------------+-------------------------+--------------------+--------------------+--------------------+--------------------+--------------------+--------+-------+--------------+------+----------+----------------------+----------+------------+--------------------+\n",
      "|color|    director_name|num_rew|duration|director_facebook_likes|actor_3_facebook_likes|    actor_2_name|actor_1_facebook_likes|       gross|              genres|   actor_1_name|         movie_title|num_voted_users|cast_total_facebook_likes|        actor_3_name|facenumber_in_poster|       plot_keywords|     movie_imdb_link|num_user_for_reviews|language|country|content_rating|budget|title_year|actor_2_facebook_likes|imdb_score|aspect_ratio|movie_facebook_likes|\n",
      "+-----+-----------------+-------+--------+-----------------------+----------------------+----------------+----------------------+------------+--------------------+---------------+--------------------+---------------+-------------------------+--------------------+--------------------+--------------------+--------------------+--------------------+--------+-------+--------------+------+----------+----------------------+----------+------------+--------------------+\n",
      "|Color|    James Cameron|  723.0|   178.0|                    0.0|                 855.0|Joel David Moore|                1000.0|7.60505847E8|Action|Adventure|...|    CCH Pounder|              Avatar|         886204|                     4834|           Wes Studi|                 0.0|avatar|future|mar...|http://www.imdb.c...|              3054.0| English|    USA|         PG-13|2.37E8|    2009.0|                 936.0|       7.9|        1.78|               33000|\n",
      "|Color|   Gore Verbinski|  302.0|   169.0|                  563.0|                1000.0|   Orlando Bloom|               40000.0|3.09404152E8|Action|Adventure|...|    Johnny Depp|Pirates of the Ca...|         471220|                    48350|      Jack Davenport|                 0.0|goddess|marriage ...|http://www.imdb.c...|              1238.0| English|    USA|         PG-13| 3.0E8|    2007.0|                5000.0|       7.1|        2.35|                   0|\n",
      "|Color|       Sam Mendes|  602.0|   148.0|                    0.0|                 161.0|    Rory Kinnear|               11000.0|2.00074175E8|Action|Adventure|...|Christoph Waltz|             Spectre|         275868|                    11700|    Stephanie Sigman|                 1.0|bomb|espionage|se...|http://www.imdb.c...|               994.0| English|     UK|         PG-13|2.45E8|    2015.0|                 393.0|       6.8|        2.35|               85000|\n",
      "|Color|Christopher Nolan|  813.0|   164.0|                22000.0|               23000.0|  Christian Bale|               27000.0|4.48130642E8|     Action|Thriller|      Tom Hardy|The Dark Knight R...|        1144337|                   106759|Joseph Gordon-Levitt|                 0.0|deception|impriso...|http://www.imdb.c...|              2701.0| English|    USA|         PG-13| 2.5E8|    2012.0|               23000.0|       8.5|        2.35|              164000|\n",
      "| null|      Doug Walker|   null|    null|                  131.0|                  null|      Rob Walker|                 131.0|        null|         Documentary|    Doug Walker|Star Wars: Episod...|              8|                      143|                null|                 0.0|                null|http://www.imdb.c...|                null|    null|   null|          null|  null|      null|                  12.0|       7.1|        null|                   0|\n",
      "+-----+-----------------+-------+--------+-----------------------+----------------------+----------------+----------------------+------------+--------------------+---------------+--------------------+---------------+-------------------------+--------------------+--------------------+--------------------+--------------------+--------------------+--------+-------+--------------+------+----------+----------------------+----------+------------+--------------------+\n",
      "only showing top 5 rows\n",
      "\n"
     ]
    }
   ],
   "source": [
    "df.withColumnRenamed('num_critic_for_reviews', 'num_rew').show(5)"
   ]
  },
  {
   "cell_type": "code",
   "execution_count": 75,
   "metadata": {},
   "outputs": [
    {
     "name": "stdout",
     "output_type": "stream",
     "text": [
      "+-----+--------------+----------+------+\n",
      "|color| director_name|imdb_score|status|\n",
      "+-----+--------------+----------+------+\n",
      "|Color|    Sam Mendes|       6.8|medium|\n",
      "|Color|Andrew Stanton|       6.6|medium|\n",
      "|Color|     Sam Raimi|       6.2|medium|\n",
      "|Color|   Zack Snyder|       6.9|medium|\n",
      "|Color|  Bryan Singer|       6.1|medium|\n",
      "+-----+--------------+----------+------+\n",
      "only showing top 5 rows\n",
      "\n"
     ]
    }
   ],
   "source": [
    "from pyspark.sql.functions import when\n",
    "\n",
    "(df.withColumn(\n",
    "    'status', when(df.imdb_score < 4, 'low')\n",
    "            .when(df.imdb_score < 7, 'medium')\n",
    "            .otherwise('high')\n",
    ").select('color', 'director_name', 'imdb_score', 'status'\n",
    ").filter(\"status == 'medium'\")\n",
    ".show(5)\n",
    ")"
   ]
  },
  {
   "cell_type": "code",
   "execution_count": null,
   "metadata": {},
   "outputs": [
    {
     "name": "stdout",
     "output_type": "stream",
     "text": [
      "+-----+--------------+----------+------+\n",
      "|color| director_name|imdb_score|status|\n",
      "+-----+--------------+----------+------+\n",
      "|Color|    Sam Mendes|       6.8|medium|\n",
      "|Color|Andrew Stanton|       6.6|medium|\n",
      "|Color|     Sam Raimi|       6.2|medium|\n",
      "|Color|   Zack Snyder|       6.9|medium|\n",
      "|Color|  Bryan Singer|       6.1|medium|\n",
      "+-----+--------------+----------+------+\n",
      "only showing top 5 rows\n",
      "\n"
     ]
    }
   ],
   "source": [
    "from pyspark.sql.functions import when\n",
    "\n",
    "(df.withColumn(\n",
    "    'status', when(df.imdb_score < 4, 'low')\n",
    "            .when(df.imdb_score < 7, 'medium')\n",
    "            .otherwise('high')\n",
    ").select('color', 'director_name', 'imdb_score', 'status'\n",
    ").filter(col('status') == 'medium')\n",
    ".show(5)\n",
    ")"
   ]
  },
  {
   "cell_type": "code",
   "execution_count": 81,
   "metadata": {},
   "outputs": [
    {
     "name": "stdout",
     "output_type": "stream",
     "text": [
      "+-----+-----------------+----------------------+--------+-----------------------+----------------------+----------------+----------------------+------------+--------------------+---------------+--------------------+---------------+-------------------------+--------------------+--------------------+--------------------+--------------------+--------------------+--------+-------+--------------+-------+----------+----------------------+----------+------------+--------------------+\n",
      "|color|    director_name|num_critic_for_reviews|duration|director_facebook_likes|actor_3_facebook_likes|    actor_2_name|actor_1_facebook_likes|       gross|              genres|   actor_1_name|         movie_title|num_voted_users|cast_total_facebook_likes|        actor_3_name|facenumber_in_poster|       plot_keywords|     movie_imdb_link|num_user_for_reviews|language|country|content_rating| budget|title_year|actor_2_facebook_likes|imdb_score|aspect_ratio|movie_facebook_likes|\n",
      "+-----+-----------------+----------------------+--------+-----------------------+----------------------+----------------+----------------------+------------+--------------------+---------------+--------------------+---------------+-------------------------+--------------------+--------------------+--------------------+--------------------+--------------------+--------+-------+--------------+-------+----------+----------------------+----------+------------+--------------------+\n",
      "|Color|    James Cameron|                 723.0|   178.0|                    0.0|                 855.0|Joel David Moore|                1000.0|7.60505847E8|Action|Adventure|...|    CCH Pounder|              Avatar|         886204|                     4834|           Wes Studi|                 0.0|avatar|future|mar...|http://www.imdb.c...|              3054.0| English|    USA|         PG-13| 2.37E8|    2009.0|                 936.0|       7.9|        1.78|               33000|\n",
      "|Color|   Gore Verbinski|                 302.0|   169.0|                  563.0|                1000.0|   Orlando Bloom|               40000.0|3.09404152E8|Action|Adventure|...|    Johnny Depp|Pirates of the Ca...|         471220|                    48350|      Jack Davenport|                 0.0|goddess|marriage ...|http://www.imdb.c...|              1238.0| English|    USA|         PG-13|  3.0E8|    2007.0|                5000.0|       7.1|        2.35|                   0|\n",
      "|Color|       Sam Mendes|                 602.0|   148.0|                    0.0|                 161.0|    Rory Kinnear|               11000.0|2.00074175E8|Action|Adventure|...|Christoph Waltz|             Spectre|         275868|                    11700|    Stephanie Sigman|                 1.0|bomb|espionage|se...|http://www.imdb.c...|               994.0| English|     UK|         PG-13| 2.45E8|    2015.0|                 393.0|       6.8|        2.35|               85000|\n",
      "|Color|Christopher Nolan|                 813.0|   164.0|                22000.0|               23000.0|  Christian Bale|               27000.0|4.48130642E8|     Action|Thriller|      Tom Hardy|The Dark Knight R...|        1144337|                   106759|Joseph Gordon-Levitt|                 0.0|deception|impriso...|http://www.imdb.c...|              2701.0| English|    USA|         PG-13|  2.5E8|    2012.0|               23000.0|       8.5|        2.35|              164000|\n",
      "|Color|   Andrew Stanton|                 462.0|   132.0|                  475.0|                 530.0| Samantha Morton|                 640.0| 7.3058679E7|Action|Adventure|...|   Daryl Sabara|         John Carter|         212204|                     1873|        Polly Walker|                 1.0|alien|american ci...|http://www.imdb.c...|               738.0| English|    USA|         PG-13|2.637E8|    2012.0|                 632.0|       6.6|        2.35|               24000|\n",
      "+-----+-----------------+----------------------+--------+-----------------------+----------------------+----------------+----------------------+------------+--------------------+---------------+--------------------+---------------+-------------------------+--------------------+--------------------+--------------------+--------------------+--------------------+--------+-------+--------------+-------+----------+----------------------+----------+------------+--------------------+\n",
      "only showing top 5 rows\n",
      "\n"
     ]
    }
   ],
   "source": [
    "df.filter(df['num_critic_for_reviews'].isNotNull()).show(5)"
   ]
  },
  {
   "cell_type": "code",
   "execution_count": 84,
   "metadata": {},
   "outputs": [
    {
     "name": "stdout",
     "output_type": "stream",
     "text": [
      "+-----+-------------+----------------------+--------+-----------------------+----------------------+------------+----------------------+-----+------+------------+-----------+---------------+-------------------------+------------+--------------------+-------------+---------------+--------------------+--------+-------+--------------+------+----------+----------------------+----------+------------+--------------------+\n",
      "|color|director_name|num_critic_for_reviews|duration|director_facebook_likes|actor_3_facebook_likes|actor_2_name|actor_1_facebook_likes|gross|genres|actor_1_name|movie_title|num_voted_users|cast_total_facebook_likes|actor_3_name|facenumber_in_poster|plot_keywords|movie_imdb_link|num_user_for_reviews|language|country|content_rating|budget|title_year|actor_2_facebook_likes|imdb_score|aspect_ratio|movie_facebook_likes|\n",
      "+-----+-------------+----------------------+--------+-----------------------+----------------------+------------+----------------------+-----+------+------------+-----------+---------------+-------------------------+------------+--------------------+-------------+---------------+--------------------+--------+-------+--------------+------+----------+----------------------+----------+------------+--------------------+\n",
      "+-----+-------------+----------------------+--------+-----------------------+----------------------+------------+----------------------+-----+------+------------+-----------+---------------+-------------------------+------------+--------------------+-------------+---------------+--------------------+--------+-------+--------------+------+----------+----------------------+----------+------------+--------------------+\n",
      "\n"
     ]
    }
   ],
   "source": [
    "df.na.drop().filter(df['num_critic_for_reviews'].isNull()).show(5)"
   ]
  },
  {
   "cell_type": "code",
   "execution_count": 86,
   "metadata": {},
   "outputs": [],
   "source": [
    "df1 = df.filter(df['num_critic_for_reviews'].isNull()).select('color', 'director_name', 'num_critic_for_reviews', 'duration', 'director_facebook_likes', 'actor_3_facebook_likes')"
   ]
  },
  {
   "cell_type": "code",
   "execution_count": 90,
   "metadata": {},
   "outputs": [
    {
     "name": "stdout",
     "output_type": "stream",
     "text": [
      "+-----+-------------------+----------------------+--------+-----------------------+----------------------+\n",
      "|color|      director_name|num_critic_for_reviews|duration|director_facebook_likes|actor_3_facebook_likes|\n",
      "+-----+-------------------+----------------------+--------+-----------------------+----------------------+\n",
      "|Color|         Jane Clark|                  null|     7.0|                   23.0|                  51.0|\n",
      "|Color|Jonathan Jakubowicz|                  null|   105.0|                   23.0|                 897.0|\n",
      "|Color|         Dan Curtis|                  null|    99.0|                   45.0|                 224.0|\n",
      "|Color|     John Blanchard|                  null|    65.0|                    0.0|                 176.0|\n",
      "|Color|  Niels Arden Oplev|                  null|    88.0|                   76.0|                  75.0|\n",
      "+-----+-------------------+----------------------+--------+-----------------------+----------------------+\n",
      "only showing top 5 rows\n",
      "\n"
     ]
    }
   ],
   "source": [
    "df1.na.drop(thresh=5).show(5)"
   ]
  },
  {
   "cell_type": "code",
   "execution_count": 94,
   "metadata": {},
   "outputs": [
    {
     "name": "stdout",
     "output_type": "stream",
     "text": [
      "+-----+-------------+----------------------+--------+-----------------------+----------------------+------------+----------------------+-----+------+------------+-----------+---------------+-------------------------+------------+--------------------+-------------+---------------+--------------------+--------+-------+--------------+------+----------+----------------------+----------+------------+--------------------+\n",
      "|color|director_name|num_critic_for_reviews|duration|director_facebook_likes|actor_3_facebook_likes|actor_2_name|actor_1_facebook_likes|gross|genres|actor_1_name|movie_title|num_voted_users|cast_total_facebook_likes|actor_3_name|facenumber_in_poster|plot_keywords|movie_imdb_link|num_user_for_reviews|language|country|content_rating|budget|title_year|actor_2_facebook_likes|imdb_score|aspect_ratio|movie_facebook_likes|\n",
      "+-----+-------------+----------------------+--------+-----------------------+----------------------+------------+----------------------+-----+------+------------+-----------+---------------+-------------------------+------------+--------------------+-------------+---------------+--------------------+--------+-------+--------------+------+----------+----------------------+----------+------------+--------------------+\n",
      "+-----+-------------+----------------------+--------+-----------------------+----------------------+------------+----------------------+-----+------+------------+-----------+---------------+-------------------------+------------+--------------------+-------------+---------------+--------------------+--------+-------+--------------+------+----------+----------------------+----------+------------+--------------------+\n",
      "\n"
     ]
    }
   ],
   "source": [
    "(\n",
    "df.na.\n",
    "drop(subset=['num_critic_for_reviews', 'color'])\n",
    ".filter(col('color').isNull())\n",
    ".show()\n",
    ")"
   ]
  },
  {
   "cell_type": "code",
   "execution_count": 98,
   "metadata": {},
   "outputs": [
    {
     "name": "stdout",
     "output_type": "stream",
     "text": [
      "+-----+-----------------+----------------------+--------+-----------------------+----------------------+----------------+----------------------+------------+--------------------+---------------+--------------------+---------------+-------------------------+--------------------+--------------------+--------------------+--------------------+--------------------+--------+-------+--------------+------+----------+----------------------+----------+------------+--------------------+\n",
      "|color|    director_name|num_critic_for_reviews|duration|director_facebook_likes|actor_3_facebook_likes|    actor_2_name|actor_1_facebook_likes|       gross|              genres|   actor_1_name|         movie_title|num_voted_users|cast_total_facebook_likes|        actor_3_name|facenumber_in_poster|       plot_keywords|     movie_imdb_link|num_user_for_reviews|language|country|content_rating|budget|title_year|actor_2_facebook_likes|imdb_score|aspect_ratio|movie_facebook_likes|\n",
      "+-----+-----------------+----------------------+--------+-----------------------+----------------------+----------------+----------------------+------------+--------------------+---------------+--------------------+---------------+-------------------------+--------------------+--------------------+--------------------+--------------------+--------------------+--------+-------+--------------+------+----------+----------------------+----------+------------+--------------------+\n",
      "|Color|    James Cameron|                 723.0|   178.0|                    0.0|                 855.0|Joel David Moore|                1000.0|7.60505847E8|Action|Adventure|...|    CCH Pounder|              Avatar|         886204|                     4834|           Wes Studi|                 0.0|avatar|future|mar...|http://www.imdb.c...|              3054.0| English|    USA|         PG-13|2.37E8|    2009.0|                 936.0|       7.9|        1.78|               33000|\n",
      "|Color|   Gore Verbinski|                 302.0|   169.0|                  563.0|                1000.0|   Orlando Bloom|               40000.0|3.09404152E8|Action|Adventure|...|    Johnny Depp|Pirates of the Ca...|         471220|                    48350|      Jack Davenport|                 0.0|goddess|marriage ...|http://www.imdb.c...|              1238.0| English|    USA|         PG-13| 3.0E8|    2007.0|                5000.0|       7.1|        2.35|                   0|\n",
      "|Color|       Sam Mendes|                 602.0|   148.0|                    0.0|                 161.0|    Rory Kinnear|               11000.0|2.00074175E8|Action|Adventure|...|Christoph Waltz|             Spectre|         275868|                    11700|    Stephanie Sigman|                 1.0|bomb|espionage|se...|http://www.imdb.c...|               994.0| English|     UK|         PG-13|2.45E8|    2015.0|                 393.0|       6.8|        2.35|               85000|\n",
      "|Color|Christopher Nolan|                 813.0|   164.0|                22000.0|               23000.0|  Christian Bale|               27000.0|4.48130642E8|     Action|Thriller|      Tom Hardy|The Dark Knight R...|        1144337|                   106759|Joseph Gordon-Levitt|                 0.0|deception|impriso...|http://www.imdb.c...|              2701.0| English|    USA|         PG-13| 2.5E8|    2012.0|               23000.0|       8.5|        2.35|              164000|\n",
      "| null|      Doug Walker|                   0.0|     0.0|                  131.0|                   0.0|      Rob Walker|                 131.0|         0.0|         Documentary|    Doug Walker|Star Wars: Episod...|              8|                      143|                null|                 0.0|                null|http://www.imdb.c...|                 0.0|    null|   null|          null|   0.0|       0.0|                  12.0|       7.1|         0.0|                   0|\n",
      "+-----+-----------------+----------------------+--------+-----------------------+----------------------+----------------+----------------------+------------+--------------------+---------------+--------------------+---------------+-------------------------+--------------------+--------------------+--------------------+--------------------+--------------------+--------+-------+--------------+------+----------+----------------------+----------+------------+--------------------+\n",
      "only showing top 5 rows\n",
      "\n"
     ]
    }
   ],
   "source": [
    "df.na.fill(0).show(5)"
   ]
  },
  {
   "cell_type": "code",
   "execution_count": 99,
   "metadata": {},
   "outputs": [],
   "source": [
    "fis = spark.read.csv('data/adv/fact_internet_sales.csv', header=True, inferSchema=True)\n",
    "customer = spark.read.csv('data/adv/dim_customer.csv', header=True, inferSchema=True)\n",
    "currency = spark.read.csv('data/adv/dim_currency.csv', header=True, inferSchema=True)"
   ]
  },
  {
   "cell_type": "code",
   "execution_count": 113,
   "metadata": {},
   "outputs": [
    {
     "name": "stdout",
     "output_type": "stream",
     "text": [
      "+----------+------------------+------------------+\n",
      "|ProductKey|       SalesAmount|       SalesAmount|\n",
      "+----------+------------------+------------------+\n",
      "|       463|11951.119999999932| 24.48999999999986|\n",
      "|       471|           10668.0|              63.5|\n",
      "|       540|27970.799999999792| 32.59999999999976|\n",
      "|       580| 418443.5399999991|1700.9899999999964|\n",
      "|       588| 98494.72000000006| 769.4900000000005|\n",
      "+----------+------------------+------------------+\n",
      "only showing top 5 rows\n",
      "\n"
     ]
    }
   ],
   "source": [
    "from pyspark.sql import functions as fn\n",
    "(\n",
    "fis\n",
    ".groupBy('ProductKey')\n",
    ".agg(fn.sum('SalesAmount'), fn.avg('SalesAmount').alias('SalesAmount'))\n",
    ".withColumnRenamed('sum(SalesAmount)', 'SalesAmount')\n",
    ".show(5)\n",
    ")"
   ]
  },
  {
   "cell_type": "code",
   "execution_count": 115,
   "metadata": {},
   "outputs": [],
   "source": [
    "fis_pd = pd.read_csv('data/adv/fact_internet_sales.csv')\n",
    "customer_pd = pd.read_csv('data/adv/dim_customer.csv')\n",
    "currency_pd = pd.read_csv('data/adv/dim_currency.csv')"
   ]
  },
  {
   "cell_type": "code",
   "execution_count": 114,
   "metadata": {},
   "outputs": [
    {
     "data": {
      "text/html": [
       "<div>\n",
       "<style scoped>\n",
       "    .dataframe tbody tr th:only-of-type {\n",
       "        vertical-align: middle;\n",
       "    }\n",
       "\n",
       "    .dataframe tbody tr th {\n",
       "        vertical-align: top;\n",
       "    }\n",
       "\n",
       "    .dataframe thead th {\n",
       "        text-align: right;\n",
       "    }\n",
       "</style>\n",
       "<table border=\"1\" class=\"dataframe\">\n",
       "  <thead>\n",
       "    <tr style=\"text-align: right;\">\n",
       "      <th></th>\n",
       "      <th>ProductKey</th>\n",
       "      <th>sum</th>\n",
       "      <th>mean</th>\n",
       "    </tr>\n",
       "  </thead>\n",
       "  <tbody>\n",
       "    <tr>\n",
       "      <th>0</th>\n",
       "      <td>214</td>\n",
       "      <td>78027.70</td>\n",
       "      <td>34.99</td>\n",
       "    </tr>\n",
       "    <tr>\n",
       "      <th>1</th>\n",
       "      <td>217</td>\n",
       "      <td>72954.15</td>\n",
       "      <td>34.99</td>\n",
       "    </tr>\n",
       "    <tr>\n",
       "      <th>2</th>\n",
       "      <td>222</td>\n",
       "      <td>74353.75</td>\n",
       "      <td>34.99</td>\n",
       "    </tr>\n",
       "    <tr>\n",
       "      <th>3</th>\n",
       "      <td>225</td>\n",
       "      <td>19688.10</td>\n",
       "      <td>8.99</td>\n",
       "    </tr>\n",
       "    <tr>\n",
       "      <th>4</th>\n",
       "      <td>228</td>\n",
       "      <td>21445.71</td>\n",
       "      <td>49.99</td>\n",
       "    </tr>\n",
       "    <tr>\n",
       "      <th>...</th>\n",
       "      <td>...</td>\n",
       "      <td>...</td>\n",
       "      <td>...</td>\n",
       "    </tr>\n",
       "    <tr>\n",
       "      <th>153</th>\n",
       "      <td>599</td>\n",
       "      <td>30239.44</td>\n",
       "      <td>539.99</td>\n",
       "    </tr>\n",
       "    <tr>\n",
       "      <th>154</th>\n",
       "      <td>600</td>\n",
       "      <td>22139.59</td>\n",
       "      <td>539.99</td>\n",
       "    </tr>\n",
       "    <tr>\n",
       "      <th>155</th>\n",
       "      <td>604</td>\n",
       "      <td>194396.40</td>\n",
       "      <td>539.99</td>\n",
       "    </tr>\n",
       "    <tr>\n",
       "      <th>156</th>\n",
       "      <td>605</td>\n",
       "      <td>196016.37</td>\n",
       "      <td>539.99</td>\n",
       "    </tr>\n",
       "    <tr>\n",
       "      <th>157</th>\n",
       "      <td>606</td>\n",
       "      <td>208436.14</td>\n",
       "      <td>539.99</td>\n",
       "    </tr>\n",
       "  </tbody>\n",
       "</table>\n",
       "<p>158 rows × 3 columns</p>\n",
       "</div>"
      ],
      "text/plain": [
       "     ProductKey        sum    mean\n",
       "0           214   78027.70   34.99\n",
       "1           217   72954.15   34.99\n",
       "2           222   74353.75   34.99\n",
       "3           225   19688.10    8.99\n",
       "4           228   21445.71   49.99\n",
       "..          ...        ...     ...\n",
       "153         599   30239.44  539.99\n",
       "154         600   22139.59  539.99\n",
       "155         604  194396.40  539.99\n",
       "156         605  196016.37  539.99\n",
       "157         606  208436.14  539.99\n",
       "\n",
       "[158 rows x 3 columns]"
      ]
     },
     "execution_count": 114,
     "metadata": {},
     "output_type": "execute_result"
    }
   ],
   "source": [
    "fis_pd.groupby('ProductKey', as_index=False)['SalesAmount'].agg(['sum', 'mean'])"
   ]
  },
  {
   "cell_type": "code",
   "execution_count": null,
   "metadata": {},
   "outputs": [
    {
     "name": "stdout",
     "output_type": "stream",
     "text": [
      "+-----------+-----------+----------+------------+-------------+---------+--------------+--------------------+--------------+-------------------+----------------+-----------+--------+-------+--------------------+-----------------+---------+----------+--------+---------+-------------------+-------------+------+------+--------------------+------------+-------------+-------------------+------------+-------------------+\n",
      "|CustomerKey|CurrencyKey|ProductKey|OrderDateKey|OrderQuantity|UnitPrice|ExtendedAmount|UnitPriceDiscountPct|DiscountAmount|ProductStandardCost|TotalProductCost|SalesAmount|  TaxAmt|Freight|CurrencyAlternateKey|     CurrencyName|FirstName|MiddleName|LastName|NameStyle|          BirthDate|MaritalStatus|Suffix|Gender|        EmailAddress|YearlyIncome|TotalChildren|       AddressLine1|AddressLine2|              Phone|\n",
      "+-----------+-----------+----------+------------+-------------+---------+--------------+--------------------+--------------+-------------------+----------------+-----------+--------+-------+--------------------+-----------------+---------+----------+--------+---------+-------------------+-------------+------+------+--------------------+------------+-------------+-------------------+------------+-------------------+\n",
      "|      21768|         19|       310|    20101229|            1|  3578.27|       3578.27|                 0.0|           0.0|          2171.2942|       2171.2942|    3578.27|286.2616|89.4568|                 CAD|  Canadian Dollar|     Cole|         A|  Watson|    false|1952-02-19 00:00:00|            S|  null|     M|cole1@adventure-w...|     70000.0|            5|   601 Asilomar Dr.|        null|       110-555-0129|\n",
      "|      28389|         39|       346|    20101229|            1|  3399.99|       3399.99|                 0.0|           0.0|          1912.1544|       1912.1544|    3399.99|271.9992|84.9998|                 FRF|     French Franc|  Rachael|         M|Martinez|    false|1970-06-17 00:00:00|            S|  null|     F|rachael16@adventu...|     20000.0|            3| 14, avenue du Port|        null|1 (11) 500 555-0190|\n",
      "|      25863|        100|       346|    20101229|            1|  3399.99|       3399.99|                 0.0|           0.0|          1912.1544|       1912.1544|    3399.99|271.9992|84.9998|                 USD|        US Dollar|   Sydney|         S|  Wright|    false|1952-06-01 00:00:00|            S|  null|     F|sydney61@adventur...|     40000.0|            5|4193 E. 28th Street|        null|       285-555-0113|\n",
      "|      14501|        100|       336|    20101229|            1| 699.0982|      699.0982|                 0.0|           0.0|           413.1463|        413.1463|   699.0982| 55.9279|17.4775|                 USD|        US Dollar|    Ruben|      null|  Prasad|    false|1943-11-10 00:00:00|            M|  null|     M|ruben10@adventure...|     80000.0|            4|  249 Alexander Pl.|        null|       175-555-0159|\n",
      "|      11003|          6|       346|    20101229|            1|  3399.99|       3399.99|                 0.0|           0.0|          1912.1544|       1912.1544|    3399.99|271.9992|84.9998|                 AUD|Australian Dollar|  Christy|      null|     Zhu|    false|1973-08-14 00:00:00|            S|  null|     F|christy12@adventu...|     70000.0|            0|   1825 Village Pl.|        null|1 (11) 500 555-0162|\n",
      "+-----------+-----------+----------+------------+-------------+---------+--------------+--------------------+--------------+-------------------+----------------+-----------+--------+-------+--------------------+-----------------+---------+----------+--------+---------+-------------------+-------------+------+------+--------------------+------------+-------------+-------------------+------------+-------------------+\n",
      "only showing top 5 rows\n",
      "\n"
     ]
    }
   ],
   "source": [
    "(\n",
    "fis\n",
    ".join(currency, on='CurrencyKey', how='inner')\n",
    ".join(customer, on='CustomerKey')\n",
    ".show(5)\n",
    ")"
   ]
  },
  {
   "cell_type": "code",
   "execution_count": 127,
   "metadata": {},
   "outputs": [
    {
     "data": {
      "text/html": [
       "<div>\n",
       "<style scoped>\n",
       "    .dataframe tbody tr th:only-of-type {\n",
       "        vertical-align: middle;\n",
       "    }\n",
       "\n",
       "    .dataframe tbody tr th {\n",
       "        vertical-align: top;\n",
       "    }\n",
       "\n",
       "    .dataframe thead th {\n",
       "        text-align: right;\n",
       "    }\n",
       "</style>\n",
       "<table border=\"1\" class=\"dataframe\">\n",
       "  <thead>\n",
       "    <tr style=\"text-align: right;\">\n",
       "      <th></th>\n",
       "      <th>ProductKey</th>\n",
       "      <th>OrderDateKey</th>\n",
       "      <th>CustomerKey</th>\n",
       "      <th>CurrencyKey</th>\n",
       "      <th>OrderQuantity</th>\n",
       "      <th>UnitPrice</th>\n",
       "      <th>ExtendedAmount</th>\n",
       "      <th>UnitPriceDiscountPct</th>\n",
       "      <th>DiscountAmount</th>\n",
       "      <th>ProductStandardCost</th>\n",
       "      <th>...</th>\n",
       "      <th>BirthDate</th>\n",
       "      <th>MaritalStatus</th>\n",
       "      <th>Suffix</th>\n",
       "      <th>Gender</th>\n",
       "      <th>EmailAddress</th>\n",
       "      <th>YearlyIncome</th>\n",
       "      <th>TotalChildren</th>\n",
       "      <th>AddressLine1</th>\n",
       "      <th>AddressLine2</th>\n",
       "      <th>Phone</th>\n",
       "    </tr>\n",
       "  </thead>\n",
       "  <tbody>\n",
       "    <tr>\n",
       "      <th>0</th>\n",
       "      <td>310</td>\n",
       "      <td>20101229</td>\n",
       "      <td>21768</td>\n",
       "      <td>19</td>\n",
       "      <td>1</td>\n",
       "      <td>3578.2700</td>\n",
       "      <td>3578.2700</td>\n",
       "      <td>0.0</td>\n",
       "      <td>0.0</td>\n",
       "      <td>2171.2942</td>\n",
       "      <td>...</td>\n",
       "      <td>1952-02-19</td>\n",
       "      <td>S</td>\n",
       "      <td>NaN</td>\n",
       "      <td>M</td>\n",
       "      <td>cole1@adventure-works.com</td>\n",
       "      <td>70000.0</td>\n",
       "      <td>5</td>\n",
       "      <td>601 Asilomar Dr.</td>\n",
       "      <td>NaN</td>\n",
       "      <td>110-555-0129</td>\n",
       "    </tr>\n",
       "    <tr>\n",
       "      <th>1</th>\n",
       "      <td>346</td>\n",
       "      <td>20101229</td>\n",
       "      <td>28389</td>\n",
       "      <td>39</td>\n",
       "      <td>1</td>\n",
       "      <td>3399.9900</td>\n",
       "      <td>3399.9900</td>\n",
       "      <td>0.0</td>\n",
       "      <td>0.0</td>\n",
       "      <td>1912.1544</td>\n",
       "      <td>...</td>\n",
       "      <td>1970-06-17</td>\n",
       "      <td>S</td>\n",
       "      <td>NaN</td>\n",
       "      <td>F</td>\n",
       "      <td>rachael16@adventure-works.com</td>\n",
       "      <td>20000.0</td>\n",
       "      <td>3</td>\n",
       "      <td>14, avenue du Port</td>\n",
       "      <td>NaN</td>\n",
       "      <td>1 (11) 500 555-0190</td>\n",
       "    </tr>\n",
       "    <tr>\n",
       "      <th>2</th>\n",
       "      <td>346</td>\n",
       "      <td>20101229</td>\n",
       "      <td>25863</td>\n",
       "      <td>100</td>\n",
       "      <td>1</td>\n",
       "      <td>3399.9900</td>\n",
       "      <td>3399.9900</td>\n",
       "      <td>0.0</td>\n",
       "      <td>0.0</td>\n",
       "      <td>1912.1544</td>\n",
       "      <td>...</td>\n",
       "      <td>1952-06-01</td>\n",
       "      <td>S</td>\n",
       "      <td>NaN</td>\n",
       "      <td>F</td>\n",
       "      <td>sydney61@adventure-works.com</td>\n",
       "      <td>40000.0</td>\n",
       "      <td>5</td>\n",
       "      <td>4193 E. 28th Street</td>\n",
       "      <td>NaN</td>\n",
       "      <td>285-555-0113</td>\n",
       "    </tr>\n",
       "    <tr>\n",
       "      <th>3</th>\n",
       "      <td>336</td>\n",
       "      <td>20101229</td>\n",
       "      <td>14501</td>\n",
       "      <td>100</td>\n",
       "      <td>1</td>\n",
       "      <td>699.0982</td>\n",
       "      <td>699.0982</td>\n",
       "      <td>0.0</td>\n",
       "      <td>0.0</td>\n",
       "      <td>413.1463</td>\n",
       "      <td>...</td>\n",
       "      <td>1943-11-10</td>\n",
       "      <td>M</td>\n",
       "      <td>NaN</td>\n",
       "      <td>M</td>\n",
       "      <td>ruben10@adventure-works.com</td>\n",
       "      <td>80000.0</td>\n",
       "      <td>4</td>\n",
       "      <td>249 Alexander Pl.</td>\n",
       "      <td>NaN</td>\n",
       "      <td>175-555-0159</td>\n",
       "    </tr>\n",
       "    <tr>\n",
       "      <th>4</th>\n",
       "      <td>346</td>\n",
       "      <td>20101229</td>\n",
       "      <td>11003</td>\n",
       "      <td>6</td>\n",
       "      <td>1</td>\n",
       "      <td>3399.9900</td>\n",
       "      <td>3399.9900</td>\n",
       "      <td>0.0</td>\n",
       "      <td>0.0</td>\n",
       "      <td>1912.1544</td>\n",
       "      <td>...</td>\n",
       "      <td>1973-08-14</td>\n",
       "      <td>S</td>\n",
       "      <td>NaN</td>\n",
       "      <td>F</td>\n",
       "      <td>christy12@adventure-works.com</td>\n",
       "      <td>70000.0</td>\n",
       "      <td>0</td>\n",
       "      <td>1825 Village Pl.</td>\n",
       "      <td>NaN</td>\n",
       "      <td>1 (11) 500 555-0162</td>\n",
       "    </tr>\n",
       "  </tbody>\n",
       "</table>\n",
       "<p>5 rows × 30 columns</p>\n",
       "</div>"
      ],
      "text/plain": [
       "   ProductKey  OrderDateKey  CustomerKey  CurrencyKey  OrderQuantity  \\\n",
       "0         310      20101229        21768           19              1   \n",
       "1         346      20101229        28389           39              1   \n",
       "2         346      20101229        25863          100              1   \n",
       "3         336      20101229        14501          100              1   \n",
       "4         346      20101229        11003            6              1   \n",
       "\n",
       "   UnitPrice  ExtendedAmount  UnitPriceDiscountPct  DiscountAmount  \\\n",
       "0  3578.2700       3578.2700                   0.0             0.0   \n",
       "1  3399.9900       3399.9900                   0.0             0.0   \n",
       "2  3399.9900       3399.9900                   0.0             0.0   \n",
       "3   699.0982        699.0982                   0.0             0.0   \n",
       "4  3399.9900       3399.9900                   0.0             0.0   \n",
       "\n",
       "   ProductStandardCost  ...   BirthDate  MaritalStatus  Suffix  Gender  \\\n",
       "0            2171.2942  ...  1952-02-19              S     NaN       M   \n",
       "1            1912.1544  ...  1970-06-17              S     NaN       F   \n",
       "2            1912.1544  ...  1952-06-01              S     NaN       F   \n",
       "3             413.1463  ...  1943-11-10              M     NaN       M   \n",
       "4            1912.1544  ...  1973-08-14              S     NaN       F   \n",
       "\n",
       "                    EmailAddress YearlyIncome TotalChildren  \\\n",
       "0      cole1@adventure-works.com      70000.0             5   \n",
       "1  rachael16@adventure-works.com      20000.0             3   \n",
       "2   sydney61@adventure-works.com      40000.0             5   \n",
       "3    ruben10@adventure-works.com      80000.0             4   \n",
       "4  christy12@adventure-works.com      70000.0             0   \n",
       "\n",
       "          AddressLine1 AddressLine2                Phone  \n",
       "0     601 Asilomar Dr.          NaN         110-555-0129  \n",
       "1   14, avenue du Port          NaN  1 (11) 500 555-0190  \n",
       "2  4193 E. 28th Street          NaN         285-555-0113  \n",
       "3    249 Alexander Pl.          NaN         175-555-0159  \n",
       "4     1825 Village Pl.          NaN  1 (11) 500 555-0162  \n",
       "\n",
       "[5 rows x 30 columns]"
      ]
     },
     "execution_count": 127,
     "metadata": {},
     "output_type": "execute_result"
    }
   ],
   "source": [
    "(\n",
    "fis_pd\n",
    "    .merge(currency_pd, on='CurrencyKey',  how='inner')\n",
    "    .merge(customer_pd, on='CustomerKey')\n",
    ").head()"
   ]
  },
  {
   "cell_type": "code",
   "execution_count": 117,
   "metadata": {},
   "outputs": [
    {
     "data": {
      "text/html": [
       "<div>\n",
       "<style scoped>\n",
       "    .dataframe tbody tr th:only-of-type {\n",
       "        vertical-align: middle;\n",
       "    }\n",
       "\n",
       "    .dataframe tbody tr th {\n",
       "        vertical-align: top;\n",
       "    }\n",
       "\n",
       "    .dataframe thead th {\n",
       "        text-align: right;\n",
       "    }\n",
       "</style>\n",
       "<table border=\"1\" class=\"dataframe\">\n",
       "  <thead>\n",
       "    <tr style=\"text-align: right;\">\n",
       "      <th></th>\n",
       "      <th>CustomerKey</th>\n",
       "      <th>FirstName</th>\n",
       "      <th>MiddleName</th>\n",
       "      <th>LastName</th>\n",
       "      <th>NameStyle</th>\n",
       "      <th>BirthDate</th>\n",
       "      <th>MaritalStatus</th>\n",
       "      <th>Suffix</th>\n",
       "      <th>Gender</th>\n",
       "      <th>EmailAddress</th>\n",
       "      <th>YearlyIncome</th>\n",
       "      <th>TotalChildren</th>\n",
       "      <th>AddressLine1</th>\n",
       "      <th>AddressLine2</th>\n",
       "      <th>Phone</th>\n",
       "    </tr>\n",
       "  </thead>\n",
       "  <tbody>\n",
       "    <tr>\n",
       "      <th>0</th>\n",
       "      <td>11000</td>\n",
       "      <td>Jon</td>\n",
       "      <td>V</td>\n",
       "      <td>Yang</td>\n",
       "      <td>False</td>\n",
       "      <td>1971-10-06</td>\n",
       "      <td>M</td>\n",
       "      <td>NaN</td>\n",
       "      <td>M</td>\n",
       "      <td>jon24@adventure-works.com</td>\n",
       "      <td>90000.0</td>\n",
       "      <td>2</td>\n",
       "      <td>3761 N. 14th St</td>\n",
       "      <td>NaN</td>\n",
       "      <td>1 (11) 500 555-0162</td>\n",
       "    </tr>\n",
       "    <tr>\n",
       "      <th>1</th>\n",
       "      <td>11001</td>\n",
       "      <td>Eugene</td>\n",
       "      <td>L</td>\n",
       "      <td>Huang</td>\n",
       "      <td>False</td>\n",
       "      <td>1976-05-10</td>\n",
       "      <td>S</td>\n",
       "      <td>NaN</td>\n",
       "      <td>M</td>\n",
       "      <td>eugene10@adventure-works.com</td>\n",
       "      <td>60000.0</td>\n",
       "      <td>3</td>\n",
       "      <td>2243 W St.</td>\n",
       "      <td>NaN</td>\n",
       "      <td>1 (11) 500 555-0110</td>\n",
       "    </tr>\n",
       "    <tr>\n",
       "      <th>2</th>\n",
       "      <td>11002</td>\n",
       "      <td>Ruben</td>\n",
       "      <td>NaN</td>\n",
       "      <td>Torres</td>\n",
       "      <td>False</td>\n",
       "      <td>1971-02-09</td>\n",
       "      <td>M</td>\n",
       "      <td>NaN</td>\n",
       "      <td>M</td>\n",
       "      <td>ruben35@adventure-works.com</td>\n",
       "      <td>60000.0</td>\n",
       "      <td>3</td>\n",
       "      <td>5844 Linden Land</td>\n",
       "      <td>NaN</td>\n",
       "      <td>1 (11) 500 555-0184</td>\n",
       "    </tr>\n",
       "  </tbody>\n",
       "</table>\n",
       "</div>"
      ],
      "text/plain": [
       "   CustomerKey FirstName MiddleName LastName  NameStyle   BirthDate  \\\n",
       "0        11000       Jon          V     Yang      False  1971-10-06   \n",
       "1        11001    Eugene          L    Huang      False  1976-05-10   \n",
       "2        11002     Ruben        NaN   Torres      False  1971-02-09   \n",
       "\n",
       "  MaritalStatus Suffix Gender                  EmailAddress  YearlyIncome  \\\n",
       "0             M    NaN      M     jon24@adventure-works.com       90000.0   \n",
       "1             S    NaN      M  eugene10@adventure-works.com       60000.0   \n",
       "2             M    NaN      M   ruben35@adventure-works.com       60000.0   \n",
       "\n",
       "   TotalChildren      AddressLine1 AddressLine2                Phone  \n",
       "0              2   3761 N. 14th St          NaN  1 (11) 500 555-0162  \n",
       "1              3        2243 W St.          NaN  1 (11) 500 555-0110  \n",
       "2              3  5844 Linden Land          NaN  1 (11) 500 555-0184  "
      ]
     },
     "execution_count": 117,
     "metadata": {},
     "output_type": "execute_result"
    }
   ],
   "source": [
    "customer_pd.head(3)"
   ]
  },
  {
   "cell_type": "code",
   "execution_count": 118,
   "metadata": {},
   "outputs": [
    {
     "data": {
      "text/html": [
       "<div>\n",
       "<style scoped>\n",
       "    .dataframe tbody tr th:only-of-type {\n",
       "        vertical-align: middle;\n",
       "    }\n",
       "\n",
       "    .dataframe tbody tr th {\n",
       "        vertical-align: top;\n",
       "    }\n",
       "\n",
       "    .dataframe thead th {\n",
       "        text-align: right;\n",
       "    }\n",
       "</style>\n",
       "<table border=\"1\" class=\"dataframe\">\n",
       "  <thead>\n",
       "    <tr style=\"text-align: right;\">\n",
       "      <th></th>\n",
       "      <th>CurrencyKey</th>\n",
       "      <th>CurrencyAlternateKey</th>\n",
       "      <th>CurrencyName</th>\n",
       "    </tr>\n",
       "  </thead>\n",
       "  <tbody>\n",
       "    <tr>\n",
       "      <th>0</th>\n",
       "      <td>1</td>\n",
       "      <td>AFA</td>\n",
       "      <td>Afghani</td>\n",
       "    </tr>\n",
       "    <tr>\n",
       "      <th>1</th>\n",
       "      <td>2</td>\n",
       "      <td>DZD</td>\n",
       "      <td>Algerian Dinar</td>\n",
       "    </tr>\n",
       "    <tr>\n",
       "      <th>2</th>\n",
       "      <td>3</td>\n",
       "      <td>ARS</td>\n",
       "      <td>Argentine Peso</td>\n",
       "    </tr>\n",
       "  </tbody>\n",
       "</table>\n",
       "</div>"
      ],
      "text/plain": [
       "   CurrencyKey CurrencyAlternateKey    CurrencyName\n",
       "0            1                  AFA         Afghani\n",
       "1            2                  DZD  Algerian Dinar\n",
       "2            3                  ARS  Argentine Peso"
      ]
     },
     "execution_count": 118,
     "metadata": {},
     "output_type": "execute_result"
    }
   ],
   "source": [
    "currency_pd.head(3)"
   ]
  },
  {
   "cell_type": "code",
   "execution_count": 131,
   "metadata": {},
   "outputs": [],
   "source": [
    "iris = spark.read.json('data/iris.json', multiLine=True)"
   ]
  },
  {
   "cell_type": "code",
   "execution_count": 135,
   "metadata": {},
   "outputs": [],
   "source": [
    "iris.repartition(4).write.csv('iris.csv')"
   ]
  },
  {
   "cell_type": "code",
   "execution_count": 136,
   "metadata": {},
   "outputs": [
    {
     "name": "stdout",
     "output_type": "stream",
     "text": [
      "+---+---+---+---+----------+\n",
      "|_c0|_c1|_c2|_c3|       _c4|\n",
      "+---+---+---+---+----------+\n",
      "|5.1|1.9|5.8|2.7| virginica|\n",
      "|6.7|2.0|7.7|2.8| virginica|\n",
      "|1.5|0.4|5.1|3.7|    setosa|\n",
      "|3.3|1.0|5.0|2.3|versicolor|\n",
      "|1.7|0.2|5.4|3.4|    setosa|\n",
      "+---+---+---+---+----------+\n",
      "only showing top 5 rows\n",
      "\n"
     ]
    }
   ],
   "source": [
    "iris_csv = spark.read.csv('iris.csv')\n",
    "iris_csv.show(5)"
   ]
  },
  {
   "cell_type": "code",
   "execution_count": 138,
   "metadata": {},
   "outputs": [],
   "source": [
    "fis.createOrReplaceTempView('internet_sales')\n"
   ]
  },
  {
   "cell_type": "code",
   "execution_count": 140,
   "metadata": {},
   "outputs": [
    {
     "name": "stdout",
     "output_type": "stream",
     "text": [
      "+----------+-----------+----------------+-----------+---+\n",
      "|ProductKey|CustomerKey|TotalProductCost|SalesAmount| RN|\n",
      "+----------+-----------+----------------+-----------+---+\n",
      "|       480|      25795|          0.8565|       2.29|  1|\n",
      "|       480|      17511|          0.8565|       2.29|  2|\n",
      "|       480|      16797|          0.8565|       2.29|  3|\n",
      "|       480|      11257|          0.8565|       2.29|  4|\n",
      "|       480|      11070|          0.8565|       2.29|  5|\n",
      "|       480|      29355|          0.8565|       2.29|  6|\n",
      "|       480|      11835|          0.8565|       2.29|  7|\n",
      "|       480|      17833|          0.8565|       2.29|  8|\n",
      "|       480|      11247|          0.8565|       2.29|  9|\n",
      "|       480|      11008|          0.8565|       2.29| 10|\n",
      "|       480|      22312|          0.8565|       2.29| 11|\n",
      "|       480|      11335|          0.8565|       2.29| 12|\n",
      "|       480|      29042|          0.8565|       2.29| 13|\n",
      "|       480|      17512|          0.8565|       2.29| 14|\n",
      "|       480|      16807|          0.8565|       2.29| 15|\n",
      "|       480|      18958|          0.8565|       2.29| 16|\n",
      "|       480|      16804|          0.8565|       2.29| 17|\n",
      "|       480|      23310|          0.8565|       2.29| 18|\n",
      "|       480|      11168|          0.8565|       2.29| 19|\n",
      "|       480|      26654|          0.8565|       2.29| 20|\n",
      "+----------+-----------+----------------+-----------+---+\n",
      "only showing top 20 rows\n",
      "\n"
     ]
    }
   ],
   "source": [
    "query = \"\"\"\n",
    "SELECT ProductKey, CustomerKey, TotalProductCost, SalesAmount,\n",
    "    ROW_NUMBER() OVER(ORDER BY SalesAmount) AS RN\n",
    "FROM internet_sales\n",
    "\"\"\"\n",
    "df = spark.sql(query)\n",
    "df.show()"
   ]
  },
  {
   "cell_type": "code",
   "execution_count": null,
   "metadata": {},
   "outputs": [],
   "source": []
  },
  {
   "cell_type": "code",
   "execution_count": null,
   "metadata": {},
   "outputs": [],
   "source": []
  }
 ],
 "metadata": {
  "kernelspec": {
   "display_name": "env",
   "language": "python",
   "name": "python3"
  },
  "language_info": {
   "codemirror_mode": {
    "name": "ipython",
    "version": 3
   },
   "file_extension": ".py",
   "mimetype": "text/x-python",
   "name": "python",
   "nbconvert_exporter": "python",
   "pygments_lexer": "ipython3",
   "version": "3.10.11"
  }
 },
 "nbformat": 4,
 "nbformat_minor": 2
}
